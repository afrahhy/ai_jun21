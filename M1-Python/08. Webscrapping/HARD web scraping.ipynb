{
 "metadata": {
  "language_info": {
   "codemirror_mode": {
    "name": "ipython",
    "version": 3
   },
   "file_extension": ".py",
   "mimetype": "text/x-python",
   "name": "python",
   "nbconvert_exporter": "python",
   "pygments_lexer": "ipython3",
   "version": "3.8.10"
  },
  "orig_nbformat": 4,
  "kernelspec": {
   "name": "python3",
   "display_name": "Python 3.8.10 64-bit ('mynewenv': conda)"
  },
  "interpreter": {
   "hash": "7d6121a23a4048d8a7a11f93f07840b870ae7d038dbb65fbcf822b011c54204d"
  }
 },
 "nbformat": 4,
 "nbformat_minor": 2,
 "cells": [
  {
   "source": [
    "from selenium import webdriver \n",
    "from time import sleep\n",
    "\n",
    "url = \"https://weather.com/weather/tenday/l/San+Francisco+CA?canonicalCityId=dfdaba8cbe3a4d12a8796e1f7b1ccc7174b4b0a2d5ddb1c8566ae9f154fa638c\"\n",
    "#my_driver = r\"C:\\Users\\afrah\\OneDrive\\Documents\\01 STRIVE\\chromedriver.exe\" \n",
    "driver = webdriver.Chrome(r\"C:\\Users\\afrah\\OneDrive\\Documents\\01 STRIVE\\chromedriver.exe\")\n",
    "\n",
    "driver.get(url)\n",
    "sleep(3)\n",
    "\n",
    "listofdays = []\n",
    "\n",
    "cookies = driver.find_element_by_xpath('//*[@id=\"truste-consent-button\"]').click()\n",
    "\n",
    "sleep(4)\n",
    "\n",
    "expand = driver.find_elements_by_class_name('DetailsSummary--daypartName--3C7r4')\n",
    "for x in expand:\n",
    "    driver.execute_script(\"arguments[0].click();\", x)\n",
    "\n",
    "\n",
    "#expand = driver.find_elements_by_class_name('DaypartDetails--DetailSummaryContent--3hfzd Disclosure--SummaryDefault--2EbAP').click()"
   ],
   "cell_type": "code",
   "metadata": {},
   "execution_count": 58,
   "outputs": []
  },
  {
   "cell_type": "code",
   "execution_count": 55,
   "metadata": {},
   "outputs": [],
   "source": [
    "\n",
    "# listofdays = []\n",
    "# expand = driver.find_elements_by_class_name('DaypartDetails--DetailSummaryContent--3hfzd Disclosure--SummaryDefault--2EbAP').click()\n",
    "\n",
    "\n",
    "#driver.execute_script(\"arguments[0].click();\", expand)\n",
    "# for i in range(len(expand)):\n",
    "#     expand[1].click()\n",
    "\n",
    "# daysdate = driver.find_elements_by_class_name('DailyContent--daypartName--tJxaZ')\n",
    "# for x in daysdate:\n",
    "#     print(x.text)\n",
    "\n"
   ]
  },
  {
   "cell_type": "code",
   "execution_count": null,
   "metadata": {},
   "outputs": [],
   "source": []
  }
 ]
}