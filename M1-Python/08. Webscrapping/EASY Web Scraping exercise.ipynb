{
 "cells": [
  {
   "cell_type": "code",
   "source": [
    "#importing, initiatlizing dict, and url \n",
    "from bs4 import BeautifulSoup\n",
    "import requests\n",
    "import pandas as pd\n",
    "import datetime\n",
    "\n",
    "dict = {\n",
    "}\n",
    "sfwurl = \"https://forecast.weather.gov/MapClick.php?lat=37.777120000000025&lon=-122.41963999999996\"\n",
    "sfwpage = requests.get(sfwurl)\n",
    "sfwsoup = BeautifulSoup(sfwpage.content, \"html.parser\")\n",
    "\n"
   ],
   "metadata": {
    "tags": [],
    "cell_id": "00001-f758b8f1-f5b3-4e7f-9aa3-6a3dbb269ebf",
    "deepnote_to_be_reexecuted": false,
    "source_hash": "c3141722",
    "execution_start": 1625662640952,
    "execution_millis": 93,
    "deepnote_cell_type": "code"
   },
   "outputs": [],
   "execution_count": 2
  },
  {
   "cell_type": "code",
   "source": [
    "#finding labels for days of the week, e.g. \"wednesday night\", etc\n",
    "sevendaylist = sfwsoup.find('div', id='detailed-forecast-body')\n",
    "allrows = sevendaylist.find_all('div')\n",
    "listofdays = []\n",
    "for r in range(30):\n",
    "    labels = allrows[r].find_all('div', class_=\"col-sm-2 forecast-label\")\n",
    "    for label in labels:\n",
    "        listofdays.append(label.text)\n",
    "\n",
    "print(listofdays)"
   ],
   "metadata": {
    "tags": [],
    "cell_id": "00002-dae4f815-64e4-4358-9180-3ebab8cb4691",
    "deepnote_to_be_reexecuted": false,
    "source_hash": "a95bcaa9",
    "execution_start": 1625662641065,
    "execution_millis": 1,
    "deepnote_cell_type": "code"
   },
   "outputs": [
    {
     "output_type": "stream",
     "name": "stdout",
     "text": [
      "['Today', 'Tonight', 'Thursday', 'Thursday Night', 'Friday', 'Friday Night', 'Saturday', 'Saturday Night', 'Sunday', 'Sunday Night']\n"
     ]
    }
   ],
   "execution_count": 3
  },
  {
   "cell_type": "code",
   "source": [
    "#scraping the description. range(30) used to limit entries to 5 days and 5 nights\n",
    "weatherdesc = []\n",
    "for r in range(30):\n",
    "    description = allrows[r].find_all('div', class_=\"col-sm-10 forecast-text\")\n",
    "    for desc in description:\n",
    "        weatherdesc.append(desc.text)\n",
    "\n",
    "print(weatherdesc)"
   ],
   "metadata": {
    "tags": [],
    "cell_id": "00003-af41678a-b4b9-46a3-8300-b466750a26d6",
    "deepnote_to_be_reexecuted": false,
    "source_hash": "c589a9c8",
    "execution_start": 1625662641090,
    "execution_millis": 0,
    "deepnote_cell_type": "code"
   },
   "outputs": [
    {
     "output_type": "stream",
     "name": "stdout",
     "text": [
      "['Mostly cloudy, then gradually becoming sunny, with a high near 66. Breezy, with a west wind 18 to 25 mph, with gusts as high as 32 mph. ', 'Increasing clouds, with a low around 55. Breezy, with a west wind 20 to 25 mph decreasing to 13 to 18 mph after midnight. Winds could gust as high as 33 mph. ', 'Partly sunny, then gradually becoming sunny, with a high near 74. West southwest wind 8 to 13 mph increasing to 15 to 20 mph in the afternoon. Winds could gust as high as 25 mph. ', 'Mostly clear, with a low around 57. Breezy, with a southwest wind 17 to 22 mph decreasing to 9 to 14 mph after midnight. Winds could gust as high as 29 mph. ', 'Sunny, with a high near 74. Breezy, with a west southwest wind 7 to 12 mph increasing to 18 to 23 mph in the afternoon. Winds could gust as high as 30 mph. ', 'Mostly clear, with a low around 56. Breezy. ', 'Sunny, with a high near 75.', 'Mostly clear, with a low around 56.', 'Sunny, with a high near 74.', 'Mostly clear, with a low around 56.']\n"
     ]
    }
   ],
   "execution_count": 7
  },
  {
   "cell_type": "code",
   "source": [
    "# function to convert temperature, and adding the highs and lows, and converted. \n",
    "#also manually added sunday night low\n",
    "def convert(x):\n",
    "    return round(((float(x) - 32) * 5.0/9.0), 2)\n",
    "\n",
    "highlowtemp = []\n",
    "boxtemp = sfwsoup.find('ul', id='seven-day-forecast-list')\n",
    "highlows = boxtemp.find_all('p', class_=\"temp\")\n",
    "for temp in highlows:\n",
    "    highlowtemp.append(temp.text)\n",
    "highlowtemp.append('Low: 56 °F')\n",
    "\n",
    "incelsius = []\n",
    "for temp in highlows:\n",
    "    temp = temp.text\n",
    "    temp = temp.split()\n",
    "    x = (float(temp[1]))\n",
    "    incelsius.append((convert(x)))\n",
    "\n",
    "incelsius.append((convert(56)))\n"
   ],
   "metadata": {
    "tags": [],
    "cell_id": "00003-0f25b025-655f-467f-af5c-d6fa7414bd94",
    "deepnote_to_be_reexecuted": false,
    "source_hash": "e46ef4f5",
    "execution_start": 1625662641091,
    "execution_millis": 0,
    "deepnote_cell_type": "code"
   },
   "outputs": [],
   "execution_count": null
  },
  {
   "cell_type": "code",
   "source": [
    "#manually adding date labels, adding all of our lists to dict, and then create dataframe\n",
    "#admitedly could have done coded for the date (for example, via a for loop perhaps?) but it was already taking so long!\n",
    "Dates = [\"07/7/2021\",\"07/7/2021\",\"08/7/2021\",\"08/7/2021\",\"09/7/2021\",\"09/7/2021\",\"10/7/2021\",\"10/7/2021\",\"11/7/2021\", \"11/7/2021\"]\n",
    "dict[\"dayofweek\"] = listofdays\n",
    "dict['date'] = Dates\n",
    "dict[\"description\"] = weatherdesc\n",
    "dict['high/low'] = highlowtemp\n",
    "dict['in °C'] = incelsius\n",
    "\n",
    "df =pd.DataFrame(dict)\n",
    "\n",
    "print(df)"
   ],
   "metadata": {
    "tags": [],
    "cell_id": "00004-b1c0d259-8244-4cc0-a37a-6a379d17afb9",
    "deepnote_to_be_reexecuted": false,
    "source_hash": "1817c9af",
    "execution_start": 1625662641092,
    "execution_millis": 12,
    "deepnote_cell_type": "code"
   },
   "outputs": [
    {
     "name": "stdout",
     "text": "        dayofweek       date  \\\n0           Today  07/7/2021   \n1         Tonight  07/7/2021   \n2        Thursday  08/7/2021   \n3  Thursday Night  08/7/2021   \n4          Friday  09/7/2021   \n5    Friday Night  09/7/2021   \n6        Saturday  10/7/2021   \n7  Saturday Night  10/7/2021   \n8          Sunday  11/7/2021   \n9    Sunday Night  11/7/2021   \n\n                                         description     high/low  in °C  \n0  Mostly cloudy, then gradually becoming sunny, ...  High: 66 °F  18.89  \n1  Mostly cloudy, with a low around 55. Breezy, w...   Low: 55 °F  12.78  \n2  Partly sunny, then gradually becoming sunny, w...  High: 74 °F  23.33  \n3  Mostly clear, with a low around 57. Breezy, wi...   Low: 57 °F  13.89  \n4  Sunny, with a high near 74. Breezy, with a wes...  High: 74 °F  23.33  \n5       Mostly clear, with a low around 56. Breezy.    Low: 56 °F  13.33  \n6                        Sunny, with a high near 75.  High: 75 °F  23.89  \n7                Mostly clear, with a low around 56.   Low: 56 °F  13.33  \n8                        Sunny, with a high near 74.  High: 74 °F  23.33  \n9               Partly cloudy, with a low around 56.   Low: 56 °F  13.33  \n",
     "output_type": "stream"
    }
   ],
   "execution_count": null
  },
  {
   "cell_type": "markdown",
   "source": [
    "<a style='text-decoration:none;line-height:16px;display:flex;color:#5B5B62;padding:10px;justify-content:end;' href='https://deepnote.com?utm_source=created-in-deepnote-cell&projectId=005176ac-f03a-499f-95fa-c10c42f2c1b2' target=\"_blank\">\n",
    "<img alt='Created in deepnote.com' style='display:inline;max-height:16px;margin:0px;margin-right:7.5px;' src='data:image/svg+xml;base64,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' > </img>\n",
    "Created in <span style='font-weight:600;margin-left:4px;'>Deepnote</span></a>"
   ],
   "metadata": {
    "tags": [],
    "created_in_deepnote_cell": true,
    "deepnote_cell_type": "markdown"
   }
  }
 ],
 "nbformat": 4,
 "nbformat_minor": 2,
 "metadata": {
  "orig_nbformat": 2,
  "deepnote": {
   "is_reactive": false
  },
  "deepnote_notebook_id": "a3a37fb9-51fa-4dd4-a073-fb802afa0cae",
  "deepnote_execution_queue": [],
  "kernelspec": {
   "name": "python3",
   "display_name": "Python 3.8.10 64-bit ('mynewenv': conda)"
  },
  "interpreter": {
   "hash": "7d6121a23a4048d8a7a11f93f07840b870ae7d038dbb65fbcf822b011c54204d"
  }
 }
}