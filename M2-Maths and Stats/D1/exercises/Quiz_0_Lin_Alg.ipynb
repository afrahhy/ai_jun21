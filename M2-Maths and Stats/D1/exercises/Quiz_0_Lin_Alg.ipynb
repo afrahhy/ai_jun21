{
 "cells": [
  {
   "cell_type": "markdown",
   "metadata": {},
   "source": [
    "# Vectors and Matrices\n",
    "Time to work! Do it with numpy first and then if you have time, manually by hand :)"
   ]
  },
  {
   "cell_type": "markdown",
   "metadata": {},
   "source": [
    "## Vectors"
   ]
  },
  {
   "cell_type": "markdown",
   "metadata": {},
   "source": [
    "Lists can be used to represent mathematical vectors. In this exercise and several that follow you will write functions to perform standard operations on vectors. Create a file named vectors.py or use the Jupyter notebook provided\n",
    "\n",
    "Write a function add_vectors(u, v) that takes two lists of numbers of the same length, and returns a new list containing the sums of the corresponding elements of each.\n",
    "\n",
    "**Note that the text in \"\"\" \"\"\" is provided for you to accurately verify that your function works :)**"
   ]
  },
  {
   "cell_type": "code",
   "execution_count": null,
   "metadata": {
    "ExecuteTime": {
     "end_time": "2021-06-07T12:55:04.065651Z",
     "start_time": "2021-06-07T12:55:04.052145Z"
    }
   },
   "outputs": [],
   "source": [
    "import numpy as np\n",
    "def add_vectors(u, v):\n",
    "  varr = np.array(v)\n",
    "  uarr = np.array(u)\n",
    "  return uarr + varr\n",
    "\n",
    "v = np.array([1, 2])\n",
    "v * 3"
   ]
  },
  {
   "cell_type": "markdown",
   "metadata": {},
   "source": [
    "Write a function scalar_mult(s, v) that takes a number, s, and a list, v and returns the [scalar multiple](https://en.wikipedia.org/wiki/Scalar_multiplication) of v by s.\n"
   ]
  },
  {
   "cell_type": "code",
   "execution_count": null,
   "metadata": {
    "ExecuteTime": {
     "end_time": "2021-06-07T12:55:19.258850Z",
     "start_time": "2021-06-07T12:55:19.249823Z"
    }
   },
   "outputs": [],
   "source": [
    "def scalar_mult(s, v):\n",
    "  return s * np.array(v)"
   ]
  },
  {
   "cell_type": "markdown",
   "metadata": {},
   "source": [
    "Write a function dot_product(u, v) that takes two lists of numbers of the same length, and returns the sum of the products of the corresponding elements of each (the [dot_product](https://en.wikipedia.org/wiki/Dot_product)."
   ]
  },
  {
   "cell_type": "code",
   "execution_count": null,
   "metadata": {
    "ExecuteTime": {
     "end_time": "2021-06-07T12:55:22.647998Z",
     "start_time": "2021-06-07T12:55:22.642607Z"
    }
   },
   "outputs": [],
   "source": [
    "def dot_product(u, v):\n",
    "  return np.dot(u, v)\n",
    "\n"
   ]
  },
  {
   "cell_type": "markdown",
   "metadata": {},
   "source": [
    "## Matrices"
   ]
  },
  {
   "cell_type": "markdown",
   "metadata": {},
   "source": [
    "Create a new module named matrices.py or *use the Jupyter notebook provided* and add the following function, which returns a copy of nested lists of numbers such that the lists are not aliases:"
   ]
  },
  {
   "cell_type": "code",
   "execution_count": null,
   "metadata": {
    "ExecuteTime": {
     "end_time": "2021-06-07T12:55:25.891991Z",
     "start_time": "2021-06-07T12:55:25.888466Z"
    }
   },
   "outputs": [],
   "source": [
    "def copy_matrix(matrix):\n",
    "    return np.copy(matrix)\n"
   ]
  },
  {
   "cell_type": "code",
   "execution_count": null,
   "metadata": {},
   "outputs": [],
   "source": [
    "m = [[1, 0, 0], [0, 2, 0], [0, 0, 3]]\n",
    "copyofm = copy_matrix(m)\n",
    "copyofm\n",
    "\n",
    "     >>> m = [[0, 0], [0, 0]]\n",
    "      >>> add_row(m)\n",
    "      [[0, 0], [0, 0], [0, 0]]\n",
    "      >>> n = [[3, 2, 5], [1, 4, 7]]\n",
    "      >>> add_row(n)\n",
    "      [[3, 2, 5], [1, 4, 7], [0, 0, 0]]\n",
    "      >>> n\n",
    "      [[3, 2, 5], [1, 4, 7]]\n",
    "    \"\"\"\n",
    "    pass\n",
    "      \n",
    " "
   ]
  },
  {
   "cell_type": "code",
   "execution_count": null,
   "metadata": {
    "ExecuteTime": {
     "end_time": "2021-06-07T12:55:28.752996Z",
     "start_time": "2021-06-07T12:55:28.749066Z"
    }
   },
   "outputs": [],
   "source": [
    "def add_row(matrix):\n",
    "   n = np.shape(matrix)[1]\n",
    "   z = [0]\n",
    "   nz = n * z\n",
    "   return np.vstack([matrix, nz])\n",
    "\n",
    "m = [[3, 2, 5], [1, 4, 7]]\n",
    "add_row(m)\n"
   ]
  },
  {
   "cell_type": "code",
   "execution_count": null,
   "metadata": {
    "ExecuteTime": {
     "end_time": "2021-06-07T12:55:31.190111Z",
     "start_time": "2021-06-07T12:55:31.186840Z"
    }
   },
   "outputs": [],
   "source": [
    "def add_column(matrix):\n",
    "    n = np.shape(matrix)[0]\n",
    "    z = [0]\n",
    "    nz = n * z\n",
    "    nz = np.array(nz)\n",
    "    nz = np.reshape(nz, (n, 1))\n",
    "    return np.append(matrix, nz, axis=1)\n",
    "m = [[0, 0], [0, 0]]\n",
    "add_column(m)"
   ]
  },
  {
   "cell_type": "markdown",
   "metadata": {},
   "source": [
    "Write a function add_matrices(m1, m2) that adds m1 and m2 and returns a new matrix containing their sum. You can assume that m1 and m2 are the same size. You add two matrices by adding their corresponding values."
   ]
  },
  {
   "cell_type": "code",
   "execution_count": null,
   "metadata": {
    "ExecuteTime": {
     "end_time": "2021-06-07T12:55:42.884497Z",
     "start_time": "2021-06-07T12:55:42.864759Z"
    }
   },
   "outputs": [],
   "source": [
    "def add_matrices(m1, m2):\n",
    "  return np.add(np.array(m1),np.array(m2))"
   ]
  },
  {
   "cell_type": "markdown",
   "metadata": {},
   "source": [
    "Write a function scalar_mult(s, m) that multiplies a matrix, m, by a scalar, s."
   ]
  },
  {
   "cell_type": "code",
   "execution_count": null,
   "metadata": {
    "ExecuteTime": {
     "end_time": "2021-06-07T12:55:47.182931Z",
     "start_time": "2021-06-07T12:55:47.178180Z"
    }
   },
   "outputs": [],
   "source": [
    "def scalar_mult(s, m):\n",
    "  return np.multiply(s, np.array(m))"
   ]
  },
  {
   "cell_type": "markdown",
   "metadata": {},
   "source": [
    "Write functions row_times_column and matrix_mult:"
   ]
  },
  {
   "cell_type": "code",
   "execution_count": null,
   "metadata": {
    "ExecuteTime": {
     "end_time": "2021-06-07T12:55:52.098971Z",
     "start_time": "2021-06-07T12:55:52.095060Z"
    }
   },
   "outputs": [],
   "source": [
    "def row_times_column(m1, row, m2, column):\n",
    "#didn't do this one \n",
    "    \"\"\"\n",
    "      >>> row_times_column([[1, 2], [3, 4]], 0, [[5, 6], [7, 8]], 0)\n",
    "      19\n",
    "      >>> row_times_column([[1, 2], [3, 4]], 0, [[5, 6], [7, 8]], 1)\n",
    "      22\n",
    "      >>> row_times_column([[1, 2], [3, 4]], 1, [[5, 6], [7, 8]], 0)\n",
    "      43\n",
    "      >>> row_times_column([[1, 2], [3, 4]], 1, [[5, 6], [7, 8]], 1)\n",
    "      50\n",
    "    \"\"\"\n",
    "    pass"
   ]
  },
  {
   "cell_type": "code",
   "execution_count": null,
   "metadata": {
    "ExecuteTime": {
     "end_time": "2021-06-07T12:56:10.904256Z",
     "start_time": "2021-06-07T12:56:10.900955Z"
    }
   },
   "outputs": [],
   "source": [
    "\n",
    "def  matrix_mult \n",
    "#didn't do this one"
   ]
  },
  {
   "cell_type": "markdown",
   "metadata": {},
   "source": [
    "Write a function transpose that takes a matrix as an argument and returns is transpose:"
   ]
  },
  {
   "cell_type": "code",
   "execution_count": null,
   "metadata": {
    "ExecuteTime": {
     "end_time": "2021-06-07T12:56:20.280054Z",
     "start_time": "2021-06-07T12:56:20.276651Z"
    }
   },
   "outputs": [],
   "source": [
    "def transpose(m):\n",
    "  m = np.array(m)\n",
    "  return m.transpose()\n",
    "\n",
    "m = [[3, 4, 6]]\n",
    "transpose(m)"
   ]
  },
  {
   "cell_type": "code",
   "execution_count": null,
   "metadata": {},
   "outputs": [],
   "source": []
  }
 ],
 "metadata": {
  "kernelspec": {
   "name": "python3",
   "display_name": "Python 3.8.10 64-bit ('mynewenv': conda)"
  },
  "language_info": {
   "codemirror_mode": {
    "name": "ipython",
    "version": 3
   },
   "file_extension": ".py",
   "mimetype": "text/x-python",
   "name": "python",
   "nbconvert_exporter": "python",
   "pygments_lexer": "ipython3",
   "version": "3.8.10"
  },
  "varInspector": {
   "cols": {
    "lenName": 16,
    "lenType": 16,
    "lenVar": 40
   },
   "kernels_config": {
    "python": {
     "delete_cmd_postfix": "",
     "delete_cmd_prefix": "del ",
     "library": "var_list.py",
     "varRefreshCmd": "print(var_dic_list())"
    },
    "r": {
     "delete_cmd_postfix": ") ",
     "delete_cmd_prefix": "rm(",
     "library": "var_list.r",
     "varRefreshCmd": "cat(var_dic_list()) "
    }
   },
   "types_to_exclude": [
    "module",
    "function",
    "builtin_function_or_method",
    "instance",
    "_Feature"
   ],
   "window_display": false
  },
  "interpreter": {
   "hash": "7d6121a23a4048d8a7a11f93f07840b870ae7d038dbb65fbcf822b011c54204d"
  }
 },
 "nbformat": 4,
 "nbformat_minor": 2
}