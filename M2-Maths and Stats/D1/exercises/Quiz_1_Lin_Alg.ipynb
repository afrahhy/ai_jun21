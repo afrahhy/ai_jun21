{
 "cells": [
  {
   "cell_type": "markdown",
   "metadata": {},
   "source": [
    "## Linear Algebra Quiz #1\n",
    "\n",
    "![title](./img/1_0.jpeg)\n",
    "\n",
    "We strongly suggest working with numpy :)"
   ]
  },
  {
   "cell_type": "code",
   "execution_count": 1,
   "metadata": {},
   "outputs": [],
   "source": [
    "import numpy as np"
   ]
  },
  {
   "cell_type": "markdown",
   "metadata": {},
   "source": [
    "![title](./img/1_1.png)"
   ]
  },
  {
   "cell_type": "code",
   "execution_count": null,
   "metadata": {},
   "outputs": [],
   "source": [
    "# type a function that given a 3_dimensional vector it is able to calculate its magnitude\n",
    "\n",
    "def magnitude_3(a,b,c):\n",
    "    v = np.array([a, b, c])\n",
    "    v_norm = np.linalg.norm(v)\n",
    "    return v_norm\n",
    "\n",
    "# type a function that given a n_dimensional vector it is able to calculate its magnitude\n",
    "# if you want to try this from python (not jupyter notebook) https://docs.python.org/3/library/argparse.html would be a good addition\n",
    "# if you are doing this from a jupyter notebook only, you can try to prompt the user for an input  \n",
    "\n",
    "def magnitude_complete(arg1, *args):\n",
    "    v = np.array(arg1)\n",
    "    for i in args:\n",
    "        v = np.append(v, [i])\n",
    "    v_norm = np.linalg.norm(v)\n",
    "    return v_norm\n",
    "\n"
   ]
  },
  {
   "cell_type": "markdown",
   "metadata": {},
   "source": [
    "uncomment the following line when you are ready to test"
   ]
  },
  {
   "cell_type": "code",
   "execution_count": 21,
   "metadata": {},
   "outputs": [],
   "source": [
    "assert magnitude_complete(1) == 1.0\n",
    "assert magnitude_complete(1,2) >= 2.236\n",
    "assert magnitude_complete(1,2,3) >= 3.741\n",
    "assert magnitude_complete(1,2,3,4,5) >= 5.477\n",
    "assert magnitude_complete(1,2,3,4,5) >= 7.416"
   ]
  },
  {
   "cell_type": "markdown",
   "metadata": {},
   "source": [
    "![title](./img/1_2.png)"
   ]
  },
  {
   "cell_type": "code",
   "execution_count": null,
   "metadata": {},
   "outputs": [],
   "source": [
    "def magnitude_vectors(a, b):\n",
    "    a = np.array(a)\n",
    "    b = np.array(b)\n",
    "    if np.shape(a)[0] == np.shape(b)[0]:\n",
    "        newarr = a + b \n",
    "        v_norm = np.linalg.norm(v)\n",
    "        return(v_norm)\n",
    "    else: \n",
    "        print('Not the same shape')"
   ]
  },
  {
   "cell_type": "markdown",
   "metadata": {},
   "source": [
    "![title](./img/1_3.png)"
   ]
  },
  {
   "cell_type": "code",
   "execution_count": null,
   "metadata": {},
   "outputs": [],
   "source": [
    "def direction_vectors(a, b):\n",
    "    a = np.array(a)\n",
    "    b = np.array(b)\n",
    "    if np.shape(a)[0] == np.shape(b)[0]:\n",
    "        dot_pr = a.dot(b)\n",
    "        norms = np.linalg.norm(a) * np.linalg.norm(b)\n",
    "        return(np.rad2deg(np.arccos(dot_pr / norms)))\n",
    "    else:\n",
    "        print('Not the same shape')\n",
    " \n",
    "    \n",
    "# or if you want to do it all in one batch:\n",
    "def magdir_vectors(a, b):\n",
    "    a = np.array(a)\n",
    "    b = np.array(b)\n",
    "    if np.shape(a)[0] == np.shape(b)[0]:\n",
    "        newarr = a + b \n",
    "        v_norm = np.linalg.norm(v)\n",
    "        (v_norm)\n",
    "        dot_pr = a.dot(b)\n",
    "        norms = np.linalg.norm(a) * np.linalg.norm(b)\n",
    "        direction = np.rad2deg(np.arccos(dot_pr / norms))\n",
    "        print(\"The magnitude of\", a, b, \"is\", v_norm, \"and the direction is\", direction)\n",
    "\n"
   ]
  },
  {
   "cell_type": "markdown",
   "metadata": {},
   "source": [
    "![title](./img/1_4.png)\n",
    "- What is the magnitude of αx⃗? \n",
    "- If α>0, will the direction of the resulting vector change?\n",
    "- If α<0, will the direction of the resulting vector change?\n",
    "- If −1<α<1, will ∥αx⃗∥  increase, decrease or stay the same?"
   ]
  },
  {
   "cell_type": "code",
   "execution_count": null,
   "metadata": {},
   "outputs": [],
   "source": [
    "def alpha_magnitude(alpha, b):\n",
    "    ab = alpha * np.array(b)\n",
    "    norm = np.linalg.norm(ab)\n",
    "    return norm\n",
    "\n",
    "# If α > 0, the direction of the vector will not change\n",
    "# If α < 0, the direction of the vector will change \n",
    "# If -1 <α < 1, the magnitude will decrease"
   ]
  },
  {
   "cell_type": "markdown",
   "metadata": {},
   "source": [
    "For the above exercise, write down in markdown or in a comment if the direction has changed and what has happened to the vector."
   ]
  },
  {
   "cell_type": "code",
   "execution_count": null,
   "metadata": {},
   "outputs": [],
   "source": [
    "\n",
    "# If α > 0, the direction of the vector will not change\n",
    "# If α < 0, the direction of the vector will change \n",
    "# If -1 <α < 1, the magnitude will decrease"
   ]
  }
 ],
 "metadata": {
  "kernelspec": {
   "name": "python3",
   "display_name": "Python 3.8.10 64-bit ('mynewenv': conda)"
  },
  "language_info": {
   "codemirror_mode": {
    "name": "ipython",
    "version": 3
   },
   "file_extension": ".py",
   "mimetype": "text/x-python",
   "name": "python",
   "nbconvert_exporter": "python",
   "pygments_lexer": "ipython3",
   "version": "3.8.10"
  },
  "varInspector": {
   "cols": {
    "lenName": 16,
    "lenType": 16,
    "lenVar": 40
   },
   "kernels_config": {
    "python": {
     "delete_cmd_postfix": "",
     "delete_cmd_prefix": "del ",
     "library": "var_list.py",
     "varRefreshCmd": "print(var_dic_list())"
    },
    "r": {
     "delete_cmd_postfix": ") ",
     "delete_cmd_prefix": "rm(",
     "library": "var_list.r",
     "varRefreshCmd": "cat(var_dic_list()) "
    }
   },
   "types_to_exclude": [
    "module",
    "function",
    "builtin_function_or_method",
    "instance",
    "_Feature"
   ],
   "window_display": false
  },
  "interpreter": {
   "hash": "7d6121a23a4048d8a7a11f93f07840b870ae7d038dbb65fbcf822b011c54204d"
  }
 },
 "nbformat": 4,
 "nbformat_minor": 2
}