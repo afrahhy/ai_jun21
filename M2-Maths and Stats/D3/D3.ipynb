{
 "metadata": {
  "language_info": {
   "codemirror_mode": {
    "name": "ipython",
    "version": 3
   },
   "file_extension": ".py",
   "mimetype": "text/x-python",
   "name": "python",
   "nbconvert_exporter": "python",
   "pygments_lexer": "ipython3",
   "version": "3.8.10"
  },
  "orig_nbformat": 4,
  "kernelspec": {
   "name": "python3",
   "display_name": "Python 3.8.10 64-bit ('mynewenv': conda)"
  },
  "interpreter": {
   "hash": "7d6121a23a4048d8a7a11f93f07840b870ae7d038dbb65fbcf822b011c54204d"
  }
 },
 "nbformat": 4,
 "nbformat_minor": 2,
 "cells": [
  {
   "cell_type": "code",
   "execution_count": 34,
   "metadata": {},
   "outputs": [],
   "source": [
    "import sympy as sy\n",
    "from sympy import *\n",
    "x = sy.Symbol('x')\n",
    "y = sy.Symbol('y')\n",
    "import numpy as np \n",
    "\n",
    "from scipy.misc import derivative"
   ]
  },
  {
   "cell_type": "code",
   "execution_count": 8,
   "metadata": {},
   "outputs": [
    {
     "output_type": "execute_result",
     "data": {
      "text/plain": [
       "2*x + 2"
      ],
      "text/latex": "$\\displaystyle 2 x + 2$"
     },
     "metadata": {},
     "execution_count": 8
    }
   ],
   "source": [
    "def f(x): \n",
    "    return x**2 + (2*x) + 1\n",
    "(sy.diff(f(x), x))"
   ]
  },
  {
   "cell_type": "code",
   "execution_count": 10,
   "metadata": {},
   "outputs": [
    {
     "output_type": "execute_result",
     "data": {
      "text/plain": [
       "x - 5"
      ],
      "text/latex": "$\\displaystyle x - 5$"
     },
     "metadata": {},
     "execution_count": 10
    }
   ],
   "source": [
    "def f(x):\n",
    "    return ((x**2)/2) - (5*x) + 1\n",
    "(sy.diff(f(x), x))"
   ]
  },
  {
   "cell_type": "code",
   "execution_count": 11,
   "metadata": {},
   "outputs": [
    {
     "output_type": "execute_result",
     "data": {
      "text/plain": [
       "1/(2*sqrt(x))"
      ],
      "text/latex": "$\\displaystyle \\frac{1}{2 \\sqrt{x}}$"
     },
     "metadata": {},
     "execution_count": 11
    }
   ],
   "source": [
    "def f(x):\n",
    "    return sqrt(x)\n",
    "(sy.diff(f(x), x))"
   ]
  },
  {
   "cell_type": "code",
   "execution_count": 12,
   "metadata": {},
   "outputs": [
    {
     "output_type": "execute_result",
     "data": {
      "text/plain": [
       "-45*x**4/7 + 7*x"
      ],
      "text/latex": "$\\displaystyle - \\frac{45 x^{4}}{7} + 7 x$"
     },
     "metadata": {},
     "execution_count": 12
    }
   ],
   "source": [
    "def f(x):\n",
    "    return ((6*x**2)/4) - ((9*x**5)/7)+(2*x**2)\n",
    "(sy.diff(f(x), x))"
   ]
  },
  {
   "cell_type": "code",
   "execution_count": 13,
   "metadata": {},
   "outputs": [
    {
     "output_type": "execute_result",
     "data": {
      "text/plain": [
       "3*x**2/2 + 2*x"
      ],
      "text/latex": "$\\displaystyle \\frac{3 x^{2}}{2} + 2 x$"
     },
     "metadata": {},
     "execution_count": 13
    }
   ],
   "source": [
    "def f(x):\n",
    "    return ((x**3)/2) - x**2 +1 + 2*x**2\n",
    "(sy.diff(f(x), x))"
   ]
  },
  {
   "cell_type": "code",
   "execution_count": 14,
   "metadata": {},
   "outputs": [
    {
     "output_type": "execute_result",
     "data": {
      "text/plain": [
       "0.25*x**(-0.5)"
      ],
      "text/latex": "$\\displaystyle \\frac{0.25}{x^{0.5}}$"
     },
     "metadata": {},
     "execution_count": 14
    }
   ],
   "source": [
    "def f(x):\n",
    "    return ((x**(1/2)/2))\n",
    "(sy.diff(f(x), x))"
   ]
  },
  {
   "cell_type": "code",
   "execution_count": 18,
   "metadata": {},
   "outputs": [
    {
     "output_type": "execute_result",
     "data": {
      "text/plain": [
       "-10*y**4/x**2"
      ],
      "text/latex": "$\\displaystyle - \\frac{10 y^{4}}{x^{2}}$"
     },
     "metadata": {},
     "execution_count": 18
    }
   ],
   "source": [
    "def f(y):\n",
    "    return ((x/2)**-1)*(y**5)\n",
    "(sy.diff(f(y), x, y))"
   ]
  },
  {
   "cell_type": "code",
   "execution_count": 20,
   "metadata": {},
   "outputs": [
    {
     "output_type": "execute_result",
     "data": {
      "text/plain": [
       "-sin(x)"
      ],
      "text/latex": "$\\displaystyle - \\sin{\\left(x \\right)}$"
     },
     "metadata": {},
     "execution_count": 20
    }
   ],
   "source": [
    "def f(x):\n",
    "    return cos(x)\n",
    "(sy.diff(f(x), x))\n"
   ]
  },
  {
   "cell_type": "code",
   "execution_count": 21,
   "metadata": {},
   "outputs": [
    {
     "output_type": "execute_result",
     "data": {
      "text/plain": [
       "cos(x)"
      ],
      "text/latex": "$\\displaystyle \\cos{\\left(x \\right)}$"
     },
     "metadata": {},
     "execution_count": 21
    }
   ],
   "source": [
    "def f(x):\n",
    "    return sin(x)\n",
    "(sy.diff(f(x), x))"
   ]
  },
  {
   "cell_type": "code",
   "execution_count": 22,
   "metadata": {},
   "outputs": [
    {
     "output_type": "execute_result",
     "data": {
      "text/plain": [
       "-2*x*sin(x**2)"
      ],
      "text/latex": "$\\displaystyle - 2 x \\sin{\\left(x^{2} \\right)}$"
     },
     "metadata": {},
     "execution_count": 22
    }
   ],
   "source": [
    "def f(x):\n",
    "    return cos(x**2)\n",
    "(sy.diff(f(x), x))"
   ]
  },
  {
   "cell_type": "code",
   "execution_count": 23,
   "metadata": {},
   "outputs": [
    {
     "output_type": "execute_result",
     "data": {
      "text/plain": [
       "cos(sqrt(x))/(2*sqrt(x))"
      ],
      "text/latex": "$\\displaystyle \\frac{\\cos{\\left(\\sqrt{x} \\right)}}{2 \\sqrt{x}}$"
     },
     "metadata": {},
     "execution_count": 23
    }
   ],
   "source": [
    "def f(x):\n",
    "    return sin(sqrt(x))\n",
    "(sy.diff(f(x), x))"
   ]
  },
  {
   "cell_type": "code",
   "execution_count": 24,
   "metadata": {},
   "outputs": [
    {
     "output_type": "execute_result",
     "data": {
      "text/plain": [
       "1/x"
      ],
      "text/latex": "$\\displaystyle \\frac{1}{x}$"
     },
     "metadata": {},
     "execution_count": 24
    }
   ],
   "source": [
    "def f(x):\n",
    "    return ln(x)\n",
    "(sy.diff(f(x), x))"
   ]
  },
  {
   "cell_type": "code",
   "execution_count": 25,
   "metadata": {},
   "outputs": [
    {
     "output_type": "execute_result",
     "data": {
      "text/plain": [
       "0"
      ],
      "text/latex": "$\\displaystyle 0$"
     },
     "metadata": {},
     "execution_count": 25
    }
   ],
   "source": [
    "def f(x):\n",
    "    return ln(x) - ln(-x)\n",
    "(sy.diff(f(x), x))"
   ]
  },
  {
   "cell_type": "code",
   "execution_count": 26,
   "metadata": {},
   "outputs": [
    {
     "output_type": "execute_result",
     "data": {
      "text/plain": [
       "2*log(x)/x"
      ],
      "text/latex": "$\\displaystyle \\frac{2 \\log{\\left(x \\right)}}{x}$"
     },
     "metadata": {},
     "execution_count": 26
    }
   ],
   "source": [
    "def f(x):\n",
    "    return ln(x)**2\n",
    "(sy.diff(f(x), x))"
   ]
  },
  {
   "cell_type": "code",
   "execution_count": 27,
   "metadata": {},
   "outputs": [
    {
     "output_type": "execute_result",
     "data": {
      "text/plain": [
       "2*x/(x**2 + 1)"
      ],
      "text/latex": "$\\displaystyle \\frac{2 x}{x^{2} + 1}$"
     },
     "metadata": {},
     "execution_count": 27
    }
   ],
   "source": [
    "def f(x):\n",
    "    return ln(x**2 +1)\n",
    "(sy.diff(f(x), x))"
   ]
  },
  {
   "cell_type": "code",
   "execution_count": null,
   "metadata": {},
   "outputs": [],
   "source": []
  }
 ]
}