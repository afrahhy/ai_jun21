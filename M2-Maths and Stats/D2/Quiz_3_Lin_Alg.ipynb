{
 "cells": [
  {
   "cell_type": "markdown",
   "metadata": {},
   "source": [
    "## Linear Algebra Quiz #3\n",
    "\n",
    "![title](./img/3_0.jpeg)\n",
    "\n",
    "We strongly suggest working with numpy :)"
   ]
  },
  {
   "cell_type": "code",
   "execution_count": 1,
   "metadata": {},
   "outputs": [],
   "source": [
    "import numpy as np"
   ]
  },
  {
   "cell_type": "markdown",
   "metadata": {},
   "source": [
    "![title](./img/3_2.png)\n",
    "![title](./img/3_3.png) \n",
    "<b>\n",
    "Create a program that can output\n",
    "\n",
    "- What is the value of element c23​ of Matrix C where C=A x B ?\n",
    "- What is the value of element c23​ of Matrix C where C=B x A ?"
   ]
  },
  {
   "cell_type": "code",
   "execution_count": 40,
   "metadata": {},
   "outputs": [
    {
     "output_type": "execute_result",
     "data": {
      "text/plain": [
       "5.0"
      ]
     },
     "metadata": {},
     "execution_count": 40
    }
   ],
   "source": [
    "a = np.array([[3, 1, 2], [-5, 4, 1], [0, 3, -8]])\n",
    "b = np.array([[0, 5, -1], [3, 2, -1], [10, 0.5, 4]])\n",
    "\n",
    "def matrix_mult(u, v):\n",
    "    if np.shape(u)[1] == np.shape(v)[0]:\n",
    "        c = np.matmul(u, v)\n",
    "        return c[1, 2]\n",
    "    else: \n",
    "        print('Cannot multiply these matrices')\n",
    "\n",
    "matrix_mult(a, b)\n"
   ]
  },
  {
   "cell_type": "code",
   "execution_count": 6,
   "metadata": {},
   "outputs": [
    {
     "output_type": "execute_result",
     "data": {
      "text/plain": [
       "array([[1., 0., 0.],\n",
       "       [0., 1., 0.],\n",
       "       [0., 0., 1.]])"
      ]
     },
     "metadata": {},
     "execution_count": 6
    }
   ],
   "source": [
    "# okay numpy is great but... how would you inverse a matrix by hand?\n",
    "\n",
    "I = np.eye(3)\n",
    "I\n",
    "# def inverse_matrix(A):\n",
    "#     return \"\""
   ]
  },
  {
   "cell_type": "markdown",
   "metadata": {},
   "source": [
    "![title](./img/3_1.png)\n",
    "<br>\n",
    "Create a program that can output\n",
    "\n",
    "- What is the value of the ijth element if i = 2 and j=3?\n",
    "- What is the value of the ijth element if i = 3 and j=1?"
   ]
  },
  {
   "cell_type": "code",
   "execution_count": 21,
   "metadata": {},
   "outputs": [
    {
     "output_type": "execute_result",
     "data": {
      "text/plain": [
       "5.7"
      ]
     },
     "metadata": {},
     "execution_count": 21
    }
   ],
   "source": [
    "A = np.array([[3, 0.6, 4, -3], [-1.3, 4, 0, 8.6], [7, 0, -8, 0.006]])\n",
    "B = np.array([[3, -5.76, 45, 0], [2, -2, 1.3, 9], [-9, 0, 0, 0]])\n",
    "C = np.array([[0, 1009, -66.7849, 90], [0, 5, 4, -0.07], [-7.7, 0, 0, 0]]) \n",
    "def ijth_element(i, j):\n",
    "    D = A + B - C\n",
    "    return D[(i-1),(j-1)]\n",
    "\n",
    "ijth_element(3, 1)\n",
    "\n",
    "\n",
    "\n",
    "# Harder\n",
    "# Can you build a matrix solver that can do output the result given n matrices and a sequence of operations such as [add subtract multiply transpose?]\n",
    "#Some ideas on valid operations: Multiplication Addition Subtraction Inverstion Transposed. "
   ]
  },
  {
   "cell_type": "markdown",
   "metadata": {},
   "source": [
    "![title](./img/3_3.png)\n",
    "<br>\n",
    "Create a program that can output\n",
    "- How many rows will C have?\n",
    "- How many columns will C have?\n",
    "- What will be the value of c13​?"
   ]
  },
  {
   "cell_type": "code",
   "execution_count": 37,
   "metadata": {},
   "outputs": [
    {
     "output_type": "stream",
     "name": "stdout",
     "text": [
      "The number of rows in C is 1 and the number of columns in C is 3\nThe value of c13 is 595.6\n"
     ]
    }
   ],
   "source": [
    "A = np.array([[0.6, -15, 2, 5, 98]])\n",
    "B = np.array([[2, 2, -4], [9, -14, 0], [13, -0.5, 44], [1, 9, 4], [0, 0 , 5]])\n",
    "\n",
    "def matrix_c():\n",
    "    C = np.matmul(A,B)\n",
    "    print('The number of rows in C is', C.shape[0], 'and the number of columns in C is', C.shape[1])\n",
    "    print('The value of c13 is', C[0,2])\n",
    "\n",
    "\n",
    "matrix_c()"
   ]
  },
  {
   "cell_type": "code",
   "execution_count": null,
   "metadata": {},
   "outputs": [],
   "source": []
  }
 ],
 "metadata": {
  "kernelspec": {
   "name": "python3",
   "display_name": "Python 3.8.10 64-bit ('mynewenv': conda)"
  },
  "language_info": {
   "codemirror_mode": {
    "name": "ipython",
    "version": 3
   },
   "file_extension": ".py",
   "mimetype": "text/x-python",
   "name": "python",
   "nbconvert_exporter": "python",
   "pygments_lexer": "ipython3",
   "version": "3.8.10"
  },
  "varInspector": {
   "cols": {
    "lenName": 16,
    "lenType": 16,
    "lenVar": 40
   },
   "kernels_config": {
    "python": {
     "delete_cmd_postfix": "",
     "delete_cmd_prefix": "del ",
     "library": "var_list.py",
     "varRefreshCmd": "print(var_dic_list())"
    },
    "r": {
     "delete_cmd_postfix": ") ",
     "delete_cmd_prefix": "rm(",
     "library": "var_list.r",
     "varRefreshCmd": "cat(var_dic_list()) "
    }
   },
   "types_to_exclude": [
    "module",
    "function",
    "builtin_function_or_method",
    "instance",
    "_Feature"
   ],
   "window_display": false
  },
  "interpreter": {
   "hash": "7d6121a23a4048d8a7a11f93f07840b870ae7d038dbb65fbcf822b011c54204d"
  }
 },
 "nbformat": 4,
 "nbformat_minor": 2
}